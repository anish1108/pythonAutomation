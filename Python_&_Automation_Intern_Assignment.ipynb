{
  "nbformat": 4,
  "nbformat_minor": 0,
  "metadata": {
    "colab": {
      "provenance": [],
      "authorship_tag": "ABX9TyNSvXMgcpnKP+QrxyYCVxhX",
      "include_colab_link": true
    },
    "kernelspec": {
      "name": "python3",
      "display_name": "Python 3"
    },
    "language_info": {
      "name": "python"
    }
  },
  "cells": [
    {
      "cell_type": "markdown",
      "metadata": {
        "id": "view-in-github",
        "colab_type": "text"
      },
      "source": [
        "<a href=\"https://colab.research.google.com/github/anish1108/pythonAutomation/blob/main/Python_%26_Automation_Intern_Assignment.ipynb\" target=\"_parent\"><img src=\"https://colab.research.google.com/assets/colab-badge.svg\" alt=\"Open In Colab\"/></a>"
      ]
    },
    {
      "cell_type": "code",
      "execution_count": 2,
      "metadata": {
        "colab": {
          "base_uri": "https://localhost:8080/"
        },
        "id": "64j2eQ0rKTIN",
        "outputId": "d23de5f7-debf-4312-d87b-27449101916b"
      },
      "outputs": [
        {
          "output_type": "stream",
          "name": "stdout",
          "text": [
            "✅ Data cleaned and saved as 'cleaned_output.csv'\n"
          ]
        }
      ],
      "source": [
        "import pandas as pd\n",
        "\n",
        "# Load the data\n",
        "df = pd.read_csv(\"/content/raw_data.csv\")  # adjust filename if needed\n",
        "\n",
        "# Remove duplicate emails\n",
        "df = df.drop_duplicates(subset=\"email\")\n",
        "\n",
        "# Normalize has_joined_event (Yes/No → True/False)\n",
        "df[\"has_joined_event\"] = df[\"has_joined_event\"].str.strip().str.lower().map({\n",
        "    \"yes\": True,\n",
        "    \"no\": False\n",
        "})\n",
        "\n",
        "# Flag missing or incomplete LinkedIn profiles\n",
        "def is_linkedin_missing(link):\n",
        "    if pd.isna(link) or len(str(link).strip()) < 10 or \"linkedin.com\" not in link:\n",
        "        return \"Missing\"\n",
        "    return \"OK\"\n",
        "\n",
        "df[\"linkedin_flag\"] = df[\"What is your LinkedIn profile?\"].apply(is_linkedin_missing)\n",
        "\n",
        "# Flag missing job titles\n",
        "df[\"job_title_flag\"] = df[\"Job Title\"].apply(lambda x: \"Missing\" if pd.isna(x) or str(x).strip() == \"\" else \"OK\")\n",
        "\n",
        "# Save cleaned data\n",
        "df.to_csv(\"/content/cleaned_output.csv\", index=False)\n",
        "\n",
        "print(\"✅ Data cleaned and saved as 'cleaned_output.csv'\")\n"
      ]
    },
    {
      "cell_type": "code",
      "source": [
        "import pandas as pd\n",
        "import json\n",
        "\n",
        "# Load the cleaned data\n",
        "df = pd.read_csv(\"/content/cleaned_output.csv\")\n",
        "\n",
        "# Store messages\n",
        "messages = []\n",
        "\n",
        "# Generate messages for each row\n",
        "for _, row in df.iterrows():\n",
        "    # Name logic: use first_name if available, else fallback to name\n",
        "    name = row['first_name'] if pd.notna(row['first_name']) else row['name']\n",
        "    job = row['Job Title'] if pd.notna(row['Job Title']) else \"professional\"\n",
        "    joined = row['has_joined_event']\n",
        "    linkedin_missing = row['linkedin_flag'] == 'Missing'\n",
        "\n",
        "    # Generate the message\n",
        "    if joined:\n",
        "        msg = f\"Hey {name}, thanks for joining our session! As a {job.lower()}, we think you’ll love our upcoming AI workflow tools. Want early access?\"\n",
        "    else:\n",
        "        msg = f\"Hi {name}, sorry we missed you at the last event! We’re preparing another session that might better suit your interests as a {job.lower()}.\"\n",
        "\n",
        "    # Add LinkedIn encouragement if profile is missing\n",
        "    if linkedin_missing:\n",
        "        msg += \" (P.S. We’d love to connect on LinkedIn!)\"\n",
        "\n",
        "    # Store the message\n",
        "    messages.append({\n",
        "        \"email\": row['email'],\n",
        "        \"message\": msg\n",
        "    })\n",
        "\n",
        "# Save as CSV\n",
        "output_df = pd.DataFrame(messages)\n",
        "output_df.to_csv(\"/content/messages_output.csv\", index=False)\n",
        "\n",
        "# Also save as JSON (optional bonus)\n",
        "with open(\"/content/messages_output.json\", \"w\") as f:\n",
        "    json.dump(messages, f, indent=2)\n",
        "\n",
        "print(\"✅ Messages generated and saved as 'messages_output.csv' and 'messages_output.json'\")\n"
      ],
      "metadata": {
        "colab": {
          "base_uri": "https://localhost:8080/"
        },
        "id": "4B3P4DIUOFvR",
        "outputId": "49bd8dbd-6670-4b52-82ab-3a0a702b03d6"
      },
      "execution_count": 3,
      "outputs": [
        {
          "output_type": "stream",
          "name": "stdout",
          "text": [
            "✅ Messages generated and saved as 'messages_output.csv' and 'messages_output.json'\n"
          ]
        }
      ]
    },
    {
      "cell_type": "code",
      "source": [
        "import smtplib\n",
        "from email.mime.text import MIMEText\n",
        "from email.mime.multipart import MIMEMultipart\n",
        "import pandas as pd\n",
        "\n",
        "# Load generated messages\n",
        "df = pd.read_csv(\"/content/messages_output.csv\")\n",
        "\n",
        "# Your email credentials\n",
        "sender_email = \"anishprasad2512@gmail.com\"\n",
        "app_password = \"okyqbjusdqrdqwlp\"\n",
        "\n",
        "# Set up SMTP server\n",
        "server = smtplib.SMTP_SSL(\"smtp.gmail.com\", 465)\n",
        "server.login(sender_email, app_password)\n",
        "\n",
        "sent_count = 0\n",
        "\n",
        "for _, row in df.iterrows():\n",
        "    recipient = row['email']\n",
        "    message_text = row['message']\n",
        "\n",
        "    # Construct the email\n",
        "    msg = MIMEMultipart()\n",
        "    msg['From'] = sender_email\n",
        "    msg['To'] = recipient\n",
        "    msg['Subject'] = \"Thanks for engaging with our event!\"\n",
        "\n",
        "    msg.attach(MIMEText(message_text, 'plain'))\n",
        "\n",
        "    try:\n",
        "        server.sendmail(sender_email, recipient, msg.as_string())\n",
        "        sent_count += 1\n",
        "    except Exception as e:\n",
        "        print(f\"❌ Failed to send to {recipient}: {e}\")\n",
        "\n",
        "server.quit()\n",
        "print(f\"✅ Sent {sent_count} emails successfully.\")\n"
      ],
      "metadata": {
        "colab": {
          "base_uri": "https://localhost:8080/"
        },
        "id": "2ml6KN4RRkvW",
        "outputId": "6e967aea-27ae-4c4b-fa26-8066319ef470"
      },
      "execution_count": 4,
      "outputs": [
        {
          "output_type": "stream",
          "name": "stdout",
          "text": [
            "✅ Sent 71 emails successfully.\n"
          ]
        }
      ]
    }
  ]
}